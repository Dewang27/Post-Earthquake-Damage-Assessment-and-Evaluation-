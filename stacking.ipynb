{
 "cells": [
  {
   "cell_type": "code",
   "execution_count": null,
   "id": "bc350cd8",
   "metadata": {},
   "outputs": [],
   "source": [
    "import torch\n",
    "\n",
    "# Load the pre and post images\n",
    "pre_images = torch.load(\"pre_images.pt\")    # [N, 3, 256, 256]\n",
    "post_images = torch.load(\"post_images.pt\")  # [N, 3, 256, 256]\n",
    "masks = torch.load(\"masks.pt\")              # [N, 1, 256, 256]\n",
    "\n",
    "# Stack along channel dimension to create [N, 6, 256, 256]\n",
    "stacked_images = torch.cat([pre_images, post_images], dim=1)\n",
    "\n",
    "# Save for training\n",
    "torch.save(stacked_images, \"stacked_6channel.pt\")\n",
    "torch.save(masks, \"masks.pt\")  # already binary {0,1}\n",
    "\n",
    "print(\"✅ Stacked dataset saved: stacked_6channel.pt and masks.pt\")\n",
    "print(\"Stacked shape:\", stacked_images.shape)  # should be [N, 6, 256, 256]\n"
   ]
  }
 ],
 "metadata": {
  "kernelspec": {
   "display_name": "Python 3",
   "language": "python",
   "name": "python3"
  },
  "language_info": {
   "name": "python",
   "version": "3.12.4"
  }
 },
 "nbformat": 4,
 "nbformat_minor": 5
}
